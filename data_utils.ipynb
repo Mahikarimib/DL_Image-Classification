{
  "nbformat": 4,
  "nbformat_minor": 0,
  "metadata": {
    "colab": {
      "name": "data_utils.py",
      "provenance": [],
      "collapsed_sections": [],
      "authorship_tag": "ABX9TyPO8Aw/w1cqSnNzOagGTegU",
      "include_colab_link": true
    },
    "kernelspec": {
      "name": "python3",
      "display_name": "Python 3"
    },
    "language_info": {
      "name": "python"
    }
  },
  "cells": [
    {
      "cell_type": "markdown",
      "metadata": {
        "id": "view-in-github",
        "colab_type": "text"
      },
      "source": [
        "<a href=\"https://colab.research.google.com/github/Mahikarimib/Image-Classification/blob/main/data_utils.ipynb\" target=\"_parent\"><img src=\"https://colab.research.google.com/assets/colab-badge.svg\" alt=\"Open In Colab\"/></a>"
      ]
    },
    {
      "cell_type": "code",
      "source": [
        "import os\n",
        "import glob\n",
        "import shutil\n",
        "import random\n",
        "from tqdm import tqdm\n",
        "\n",
        "\n",
        "def create_validation_data(trn_dir, val_dir, split=0.1):\n",
        "   if not os.path.exists(val_dir):\n",
        "      os.mkdir(val_dir)\n",
        "\n",
        "   train_ds = glob.glob(trn_dir + '/*/*.png')    \n",
        "   print(len(train_ds))   \n",
        "    \n",
        "   valid_sz = int(split * len(train_ds)) if split < 1.0 else split        \n",
        "   valid_ds = random.sample(train_ds, valid_sz)  \n",
        "   print(len(valid_ds))   \n",
        "\n",
        "     \n",
        "   for fname in tqdm(valid_ds):      \n",
        "       basename = os.path.basename(fname)       \n",
        "       label = fname.split('\\\\')[-2]       \n",
        "       src_folder = os.path.join(trn_dir, label)         \n",
        "       tgt_folder = os.path.join(val_dir, label)       \n",
        "       if not os.path.exists(tgt_folder):           \n",
        "          os.mkdir(tgt_folder)        \n",
        "       shutil.move(os.path.join(src_folder, basename), os.path.join(tgt_folder, basename))\n",
        "\n",
        "\n",
        "def pseudo_label(probs, tst_dir, test_dl, class_names, threshold=0.99999):    \n",
        "    num_data = len(test_dl.dataset)\n",
        "    preds = np.argmax(probs, axis=1)    \n",
        "    candidate_idxs = np.arange(num_data)[probs.max(axis=1) >= threshold]        \n",
        "    fnames = [f[0].split('\\\\')[-1] for f in test_dl.dataset.imgs]   \n",
        "    imgs = [fnames[i] for i in candidate_idxs]  \n",
        "    labels = [class_names[preds[i]] for i in candidate_idxs]     \n",
        "    dest_folder = os.path.join(DATA_DIR, 'pseudo', 'train')\n",
        "#     for name in class_names:\n",
        "#         folder = os.path.join(dest_folder, name)\n",
        "#         if not os.path.exists(folder):\n",
        "#             os.mkdir(folder)            \n",
        "    for _, (img, label) in tqdm(enumerate(zip(imgs, labels))):\n",
        "        src = os.path.join(tst_dir, 'unk', img)\n",
        "        dst = os.path.join(dest_folder, label, img)\n",
        "        if not os.path.exists(dst):\n",
        "            shutil.copyfile(src, dst)"
      ],
      "metadata": {
        "id": "XKXbVevQQTip"
      },
      "execution_count": 10,
      "outputs": []
    }
  ]
}